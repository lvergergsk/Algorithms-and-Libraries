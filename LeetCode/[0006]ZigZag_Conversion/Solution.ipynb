{
 "cells": [
  {
   "cell_type": "code",
   "execution_count": 5,
   "metadata": {
    "collapsed": true
   },
   "outputs": [],
   "source": [
    "class Solution(object):\n",
    "    def convert(self, s, numRows):\n",
    "        if numRows == 1:\n",
    "            return s\n",
    "        lines = [''] * numRows\n",
    "        i = 0\n",
    "        while i < len(s):\n",
    "            j = 0\n",
    "#             downward:\n",
    "            while j < numRows and i < len(s):\n",
    "                lines[j] += s[i]\n",
    "                j += 1; i += 1\n",
    "#             back to (numRows-2)th line\n",
    "            j -= 2\n",
    "#             right-upper-ward:\n",
    "            while j > 0 and i < len(s):\n",
    "                lines[j] += s[i]\n",
    "                j -= 1; i += 1 \n",
    "#         put lines together\n",
    "        return ''.join(lines)"
   ]
  },
  {
   "cell_type": "code",
   "execution_count": 6,
   "metadata": {},
   "outputs": [
    {
     "name": "stdout",
     "output_type": "stream",
     "text": [
      "aebdfc\n"
     ]
    }
   ],
   "source": [
    "s=Solution()\n",
    "print(s.convert('abcdef',3))"
   ]
  }
 ],
 "metadata": {
  "kernelspec": {
   "display_name": "Python 3",
   "language": "python",
   "name": "python3"
  },
  "language_info": {
   "codemirror_mode": {
    "name": "ipython",
    "version": 3
   },
   "file_extension": ".py",
   "mimetype": "text/x-python",
   "name": "python",
   "nbconvert_exporter": "python",
   "pygments_lexer": "ipython3",
   "version": "3.6.3"
  }
 },
 "nbformat": 4,
 "nbformat_minor": 1
}
