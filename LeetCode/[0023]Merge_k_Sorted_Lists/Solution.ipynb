{
 "cells": [
  {
   "cell_type": "code",
   "execution_count": 1,
   "metadata": {
    "collapsed": true
   },
   "outputs": [],
   "source": [
    "class ListNode:\n",
    "    def __init__(self, x):\n",
    "        self.val = x\n",
    "        self.next = None\n"
   ]
  },
  {
   "cell_type": "code",
   "execution_count": 2,
   "metadata": {
    "collapsed": true
   },
   "outputs": [],
   "source": [
    "class Solution:\n",
    "    def mergeKLists(self, lists):\n",
    "        \"\"\"\n",
    "        :type lists: List[ListNode]\n",
    "        :rtype: ListNode\n",
    "        \"\"\"\n",
    "        amount = len(lists)\n",
    "        interval = 1\n",
    "        while interval < amount:\n",
    "            for i in range(0, amount - interval, interval * 2):\n",
    "                lists[i] = self.merge_pair(lists[i], lists[i + interval])\n",
    "            interval *= 2\n",
    "        return lists[0] if amount > 0 else lists\n",
    "        \n",
    "        \n",
    "    def merge_pair(self,node1,node2):\n",
    "        rep=ListNode(0)\n",
    "        \n",
    "        node=rep\n",
    "        while node1 and node2:\n",
    "            if node1.val<=node2.val:\n",
    "                node.next=node1\n",
    "                node1=node1.next\n",
    "            else:\n",
    "                node.next=node2\n",
    "                node2=node2.next\n",
    "            node=node.next\n",
    "        if node1:\n",
    "            node.next=node1\n",
    "        else:\n",
    "            node.next=node2\n",
    "        return rep.next                \n"
   ]
  },
  {
   "cell_type": "code",
   "execution_count": 3,
   "metadata": {},
   "outputs": [
    {
     "name": "stdout",
     "output_type": "stream",
     "text": [
      "0 1 2 3 4 5 6 7 8 9 10 11 12 13 14 15 16 17 18 19 20 21 22 23\n"
     ]
    }
   ],
   "source": [
    "s=Solution()\n",
    "\n",
    "nums1=ListNode(0)\n",
    "node=nums1\n",
    "for v in range(3,22,3):\n",
    "    node.next=ListNode(v)\n",
    "    node=node.next\n",
    "    \n",
    "nums2=ListNode(1)\n",
    "node=nums2\n",
    "for v in range(4,23,3):\n",
    "    node.next=ListNode(v)\n",
    "    node=node.next\n",
    "    \n",
    "nums3=ListNode(2)\n",
    "node=nums3\n",
    "for v in range(5,24,3):\n",
    "    node.next=ListNode(v)\n",
    "    node=node.next\n",
    "    \n",
    "nums=[nums1,nums2,nums3]\n",
    "sorted_array=s.mergeKLists(nums)\n",
    "while sorted_array.next!=None:\n",
    "    print(sorted_array.val,end=\" \")\n",
    "    sorted_array=sorted_array.next\n",
    "print(sorted_array.val)"
   ]
  }
 ],
 "metadata": {
  "kernelspec": {
   "display_name": "Python 3",
   "language": "python",
   "name": "python3"
  },
  "language_info": {
   "codemirror_mode": {
    "name": "ipython",
    "version": 3
   },
   "file_extension": ".py",
   "mimetype": "text/x-python",
   "name": "python",
   "nbconvert_exporter": "python",
   "pygments_lexer": "ipython3",
   "version": "3.6.3"
  }
 },
 "nbformat": 4,
 "nbformat_minor": 1
}
