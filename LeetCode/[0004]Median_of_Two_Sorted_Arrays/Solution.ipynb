{
 "cells": [
  {
   "cell_type": "code",
   "execution_count": 1,
   "metadata": {
    "collapsed": true
   },
   "outputs": [],
   "source": [
    "import logging\n",
    "logging.basicConfig(level=logging.DEBUG)\n",
    "\n",
    "class Solution:\n",
    "    def findMedianSortedArrays(self, nums1, nums2):\n",
    "        \"\"\"\n",
    "        :type nums1: List[int]\n",
    "        :type nums2: List[int]\n",
    "        :rtype: float\n",
    "        \"\"\"\n",
    "        return median(nums1,nums2)\n",
    "\n",
    "def median(A, B):\n",
    "    m, n = len(A), len(B)\n",
    "    \n",
    "    #     0 < m = len(A) < n = len(B)\n",
    "    if m > n:\n",
    "        A, B, m, n = B, A, n, m\n",
    "    if n == 0:\n",
    "        raise ValueError\n",
    "        \n",
    "#     imin <= imax <= half_len\n",
    "    imin, imax, half_len = 0, m, int((m + n + 1) / 2)\n",
    "    while imin <= imax:\n",
    "#         notice: i + j must equal half_len\n",
    "        i = int((imin + imax) / 2)\n",
    "        j = half_len - i\n",
    "        logging.debug('i = {}, j = {}, imin = {}, imax = {}, half_len = {}'.format(i,j,imin,imax,half_len))\n",
    "        \n",
    "#         len(A) < len(B)\n",
    "#         imin, A's left part | i pointer, A's right part, imax\n",
    "#         B's left part | j pointer, B's right part\n",
    "\n",
    "        if i < m and B[j-1] > A[i]:\n",
    "            # i is too small, must increase it\n",
    "#             i < m to insure i is still in index range of small array\n",
    "            \n",
    "            imin = i + 1\n",
    "        elif i > 0 and A[i-1] > B[j]:\n",
    "            # i is too big, must decrease it\n",
    "#             i > 0 to insure i is still in index range of small array\n",
    "            imax = i - 1\n",
    "        else:\n",
    "            # i is perfect\n",
    "\n",
    "#             deciding max_of_left:\n",
    "#             nothing | i pointer, A's right part\n",
    "            if i == 0: max_of_left = B[j-1]\n",
    "#             nothing | j pointer, B's right part\n",
    "            elif j == 0: max_of_left = A[i-1]\n",
    "            else: max_of_left = max(A[i-1], B[j-1])\n",
    "\n",
    "#             to see if there is necessary to find min_of_right and take average\n",
    "            if (m + n) % 2 == 1:\n",
    "                return max_of_left\n",
    "\n",
    "#             deciding min_of_right\n",
    "#             A's left part | i pointer, nothing\n",
    "            if i == m: min_of_right = B[j]\n",
    "#             B's left part | j pointer, nothing\n",
    "            elif j == n: min_of_right = A[i]\n",
    "            else: min_of_right = min(A[i], B[j])\n",
    "\n",
    "#             return average of two number\n",
    "            return (max_of_left + min_of_right) / 2.0"
   ]
  },
  {
   "cell_type": "code",
   "execution_count": 2,
   "metadata": {},
   "outputs": [
    {
     "name": "stderr",
     "output_type": "stream",
     "text": [
      "DEBUG:root:i = 1, j = 4, imin = 0, imax = 2, half_len = 5\n",
      "DEBUG:root:i = 2, j = 3, imin = 2, imax = 2, half_len = 5\n"
     ]
    },
    {
     "data": {
      "text/plain": [
       "3"
      ]
     },
     "execution_count": 2,
     "metadata": {},
     "output_type": "execute_result"
    }
   ],
   "source": [
    "median([1,2,3,4,7,8,9],[1,2])"
   ]
  },
  {
   "cell_type": "code",
   "execution_count": null,
   "metadata": {
    "collapsed": true
   },
   "outputs": [],
   "source": []
  }
 ],
 "metadata": {
  "kernelspec": {
   "display_name": "Python 3",
   "language": "python",
   "name": "python3"
  },
  "language_info": {
   "codemirror_mode": {
    "name": "ipython",
    "version": 3
   },
   "file_extension": ".py",
   "mimetype": "text/x-python",
   "name": "python",
   "nbconvert_exporter": "python",
   "pygments_lexer": "ipython3",
   "version": "3.6.3"
  }
 },
 "nbformat": 4,
 "nbformat_minor": 1
}
