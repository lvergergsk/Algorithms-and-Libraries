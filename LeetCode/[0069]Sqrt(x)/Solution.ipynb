{
 "cells": [
  {
   "cell_type": "code",
   "execution_count": 1,
   "metadata": {},
   "outputs": [],
   "source": [
    "# without using math.sqrt()\n",
    "\n",
    "class Solution:\n",
    "    def mySqrt(self, x):\n",
    "        \n",
    "        if(x==0): return 0\n",
    "        if(x==1): return 1\n",
    "\n",
    "        lower, upper, rep = 0, x, 0\n",
    "        while lower<=upper:\n",
    "            mid=int(lower+(upper-lower)/2)\n",
    "            if mid>(x/mid):\n",
    "                upper=mid-1\n",
    "            else:\n",
    "                rep=mid\n",
    "                lower=mid+1\n",
    "        return rep      "
   ]
  },
  {
   "cell_type": "code",
   "execution_count": 2,
   "metadata": {},
   "outputs": [
    {
     "data": {
      "text/plain": [
       "2"
      ]
     },
     "execution_count": 2,
     "metadata": {},
     "output_type": "execute_result"
    }
   ],
   "source": [
    "s=Solution()\n",
    "s.mySqrt(4)"
   ]
  },
  {
   "cell_type": "code",
   "execution_count": 3,
   "metadata": {},
   "outputs": [
    {
     "data": {
      "text/plain": [
       "2.0"
      ]
     },
     "execution_count": 3,
     "metadata": {},
     "output_type": "execute_result"
    }
   ],
   "source": [
    "import math\n",
    "math.sqrt(4)"
   ]
  }
 ],
 "metadata": {
  "kernelspec": {
   "display_name": "Python 3",
   "language": "python",
   "name": "python3"
  },
  "language_info": {
   "codemirror_mode": {
    "name": "ipython",
    "version": 3
   },
   "file_extension": ".py",
   "mimetype": "text/x-python",
   "name": "python",
   "nbconvert_exporter": "python",
   "pygments_lexer": "ipython3",
   "version": "3.6.3"
  }
 },
 "nbformat": 4,
 "nbformat_minor": 1
}
